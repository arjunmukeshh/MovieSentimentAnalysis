{
  "nbformat": 4,
  "nbformat_minor": 0,
  "metadata": {
    "colab": {
      "provenance": [],
      "collapsed_sections": [],
      "toc_visible": true,
      "mount_file_id": "188T5Mo-9M3P3_nnchiZK0oMMJJtqHDd3",
      "authorship_tag": "ABX9TyMWll2j8QW54uYkBoIE4ktd",
      "include_colab_link": true
    },
    "kernelspec": {
      "name": "python3",
      "display_name": "Python 3"
    },
    "language_info": {
      "name": "python"
    }
  },
  "cells": [
    {
      "cell_type": "markdown",
      "metadata": {
        "id": "view-in-github",
        "colab_type": "text"
      },
      "source": [
        "<a href=\"https://colab.research.google.com/github/arjunmukeshh/MovieSentimentAnalysis/blob/main/sentimentanalysis.ipynb\" target=\"_parent\"><img src=\"https://colab.research.google.com/assets/colab-badge.svg\" alt=\"Open In Colab\"/></a>"
      ]
    },
    {
      "cell_type": "code",
      "execution_count": null,
      "metadata": {
        "id": "XbHsuZzVk7Cm"
      },
      "outputs": [],
      "source": [
        "\n",
        "import tensorflow as tf\n",
        "import pandas as pd\n",
        "import numpy as np\n",
        "import tensorflow.keras as keras\n"
      ]
    },
    {
      "cell_type": "markdown",
      "source": [
        "Add the files from this directory -> https://drive.google.com/drive/folders/1j9abuskI8CZWGTEMR9ydz1DwtXNVBuIY?usp=sharing"
      ],
      "metadata": {
        "id": "GUuNPVt1A5Xl"
      }
    },
    {
      "cell_type": "code",
      "source": [
        "imdb_reviews = pd.read_csv(\"/content/imdb_reviews.csv\")\n",
        "test_reviews = pd.read_csv(\"/content/test_reviews.csv\")"
      ],
      "metadata": {
        "id": "e2uyAvw-lOWc"
      },
      "execution_count": null,
      "outputs": []
    },
    {
      "cell_type": "code",
      "source": [
        "imdb_reviews.tail()"
      ],
      "metadata": {
        "colab": {
          "base_uri": "https://localhost:8080/",
          "height": 206
        },
        "id": "IPmKnmmEmA0F",
        "outputId": "e81cbde7-83fb-4ea2-9b00-2c6e0a65f249"
      },
      "execution_count": null,
      "outputs": [
        {
          "output_type": "execute_result",
          "data": {
            "text/plain": [
              "                                                 Reviews Sentiment\n",
              "24995  <START this is a racist movie but worthy of st...  positive\n",
              "24996  <START bela lugosi plays a doctor who will do ...  negative\n",
              "24997  <START in a far away galaxy is a planet called...  negative\n",
              "24998  <START six degrees had me hooked i looked forw...  positive\n",
              "24999  <START as a big fan of the original film it's ...  negative"
            ],
            "text/html": [
              "\n",
              "  <div id=\"df-26d8ecc5-e04d-47cf-a443-751d56e95390\">\n",
              "    <div class=\"colab-df-container\">\n",
              "      <div>\n",
              "<style scoped>\n",
              "    .dataframe tbody tr th:only-of-type {\n",
              "        vertical-align: middle;\n",
              "    }\n",
              "\n",
              "    .dataframe tbody tr th {\n",
              "        vertical-align: top;\n",
              "    }\n",
              "\n",
              "    .dataframe thead th {\n",
              "        text-align: right;\n",
              "    }\n",
              "</style>\n",
              "<table border=\"1\" class=\"dataframe\">\n",
              "  <thead>\n",
              "    <tr style=\"text-align: right;\">\n",
              "      <th></th>\n",
              "      <th>Reviews</th>\n",
              "      <th>Sentiment</th>\n",
              "    </tr>\n",
              "  </thead>\n",
              "  <tbody>\n",
              "    <tr>\n",
              "      <th>24995</th>\n",
              "      <td>&lt;START this is a racist movie but worthy of st...</td>\n",
              "      <td>positive</td>\n",
              "    </tr>\n",
              "    <tr>\n",
              "      <th>24996</th>\n",
              "      <td>&lt;START bela lugosi plays a doctor who will do ...</td>\n",
              "      <td>negative</td>\n",
              "    </tr>\n",
              "    <tr>\n",
              "      <th>24997</th>\n",
              "      <td>&lt;START in a far away galaxy is a planet called...</td>\n",
              "      <td>negative</td>\n",
              "    </tr>\n",
              "    <tr>\n",
              "      <th>24998</th>\n",
              "      <td>&lt;START six degrees had me hooked i looked forw...</td>\n",
              "      <td>positive</td>\n",
              "    </tr>\n",
              "    <tr>\n",
              "      <th>24999</th>\n",
              "      <td>&lt;START as a big fan of the original film it's ...</td>\n",
              "      <td>negative</td>\n",
              "    </tr>\n",
              "  </tbody>\n",
              "</table>\n",
              "</div>\n",
              "      <button class=\"colab-df-convert\" onclick=\"convertToInteractive('df-26d8ecc5-e04d-47cf-a443-751d56e95390')\"\n",
              "              title=\"Convert this dataframe to an interactive table.\"\n",
              "              style=\"display:none;\">\n",
              "        \n",
              "  <svg xmlns=\"http://www.w3.org/2000/svg\" height=\"24px\"viewBox=\"0 0 24 24\"\n",
              "       width=\"24px\">\n",
              "    <path d=\"M0 0h24v24H0V0z\" fill=\"none\"/>\n",
              "    <path d=\"M18.56 5.44l.94 2.06.94-2.06 2.06-.94-2.06-.94-.94-2.06-.94 2.06-2.06.94zm-11 1L8.5 8.5l.94-2.06 2.06-.94-2.06-.94L8.5 2.5l-.94 2.06-2.06.94zm10 10l.94 2.06.94-2.06 2.06-.94-2.06-.94-.94-2.06-.94 2.06-2.06.94z\"/><path d=\"M17.41 7.96l-1.37-1.37c-.4-.4-.92-.59-1.43-.59-.52 0-1.04.2-1.43.59L10.3 9.45l-7.72 7.72c-.78.78-.78 2.05 0 2.83L4 21.41c.39.39.9.59 1.41.59.51 0 1.02-.2 1.41-.59l7.78-7.78 2.81-2.81c.8-.78.8-2.07 0-2.86zM5.41 20L4 18.59l7.72-7.72 1.47 1.35L5.41 20z\"/>\n",
              "  </svg>\n",
              "      </button>\n",
              "      \n",
              "  <style>\n",
              "    .colab-df-container {\n",
              "      display:flex;\n",
              "      flex-wrap:wrap;\n",
              "      gap: 12px;\n",
              "    }\n",
              "\n",
              "    .colab-df-convert {\n",
              "      background-color: #E8F0FE;\n",
              "      border: none;\n",
              "      border-radius: 50%;\n",
              "      cursor: pointer;\n",
              "      display: none;\n",
              "      fill: #1967D2;\n",
              "      height: 32px;\n",
              "      padding: 0 0 0 0;\n",
              "      width: 32px;\n",
              "    }\n",
              "\n",
              "    .colab-df-convert:hover {\n",
              "      background-color: #E2EBFA;\n",
              "      box-shadow: 0px 1px 2px rgba(60, 64, 67, 0.3), 0px 1px 3px 1px rgba(60, 64, 67, 0.15);\n",
              "      fill: #174EA6;\n",
              "    }\n",
              "\n",
              "    [theme=dark] .colab-df-convert {\n",
              "      background-color: #3B4455;\n",
              "      fill: #D2E3FC;\n",
              "    }\n",
              "\n",
              "    [theme=dark] .colab-df-convert:hover {\n",
              "      background-color: #434B5C;\n",
              "      box-shadow: 0px 1px 3px 1px rgba(0, 0, 0, 0.15);\n",
              "      filter: drop-shadow(0px 1px 2px rgba(0, 0, 0, 0.3));\n",
              "      fill: #FFFFFF;\n",
              "    }\n",
              "  </style>\n",
              "\n",
              "      <script>\n",
              "        const buttonEl =\n",
              "          document.querySelector('#df-26d8ecc5-e04d-47cf-a443-751d56e95390 button.colab-df-convert');\n",
              "        buttonEl.style.display =\n",
              "          google.colab.kernel.accessAllowed ? 'block' : 'none';\n",
              "\n",
              "        async function convertToInteractive(key) {\n",
              "          const element = document.querySelector('#df-26d8ecc5-e04d-47cf-a443-751d56e95390');\n",
              "          const dataTable =\n",
              "            await google.colab.kernel.invokeFunction('convertToInteractive',\n",
              "                                                     [key], {});\n",
              "          if (!dataTable) return;\n",
              "\n",
              "          const docLinkHtml = 'Like what you see? Visit the ' +\n",
              "            '<a target=\"_blank\" href=https://colab.research.google.com/notebooks/data_table.ipynb>data table notebook</a>'\n",
              "            + ' to learn more about interactive tables.';\n",
              "          element.innerHTML = '';\n",
              "          dataTable['output_type'] = 'display_data';\n",
              "          await google.colab.output.renderOutput(dataTable, element);\n",
              "          const docLink = document.createElement('div');\n",
              "          docLink.innerHTML = docLinkHtml;\n",
              "          element.appendChild(docLink);\n",
              "        }\n",
              "      </script>\n",
              "    </div>\n",
              "  </div>\n",
              "  "
            ]
          },
          "metadata": {},
          "execution_count": 96
        }
      ]
    },
    {
      "cell_type": "code",
      "source": [
        "word_index=pd.read_csv(\"/content/word_indexes.csv\")"
      ],
      "metadata": {
        "id": "PmcKzxnTm1OV"
      },
      "execution_count": null,
      "outputs": []
    },
    {
      "cell_type": "code",
      "source": [
        "word_index=dict(zip(word_index.Words,word_index.Indexes))"
      ],
      "metadata": {
        "id": "J37xKL7nnJxC"
      },
      "execution_count": null,
      "outputs": []
    },
    {
      "cell_type": "code",
      "source": [
        "word_index[\"<PAD>\"]=0\n",
        "word_index[\"<START\"]=1\n",
        "word_index[\"<UNK>\"]=2\n",
        "word_index[\"<UNUSED>\"]=3\n"
      ],
      "metadata": {
        "id": "QrHJMCmenJ5f"
      },
      "execution_count": null,
      "outputs": []
    },
    {
      "cell_type": "code",
      "source": [
        "def encoder(text):\n",
        "  arr=[word_index[word] for word in text]\n",
        "  return arr\n"
      ],
      "metadata": {
        "id": "kdN5cR97npAu"
      },
      "execution_count": null,
      "outputs": []
    },
    {
      "cell_type": "code",
      "source": [
        "train_data,train_labels = imdb_reviews['Reviews'],imdb_reviews['Sentiment']\n",
        "test_data,test_labels = test_reviews['Reviews'],test_reviews['Sentiment']\n",
        "\n",
        "train_data = train_data.apply(lambda review:review.split())\n",
        "test_data = test_data.apply(lambda review:review.split())\n"
      ],
      "metadata": {
        "id": "wiHtI_BSoDnl"
      },
      "execution_count": null,
      "outputs": []
    },
    {
      "cell_type": "code",
      "source": [
        "train_data[0]"
      ],
      "metadata": {
        "colab": {
          "base_uri": "https://localhost:8080/"
        },
        "id": "PzYPOBlAouSz",
        "outputId": "c10bd5ff-12b1-4352-e780-a4a3167a988c"
      },
      "execution_count": null,
      "outputs": [
        {
          "output_type": "execute_result",
          "data": {
            "text/plain": [
              "['<START',\n",
              " 'this',\n",
              " 'film',\n",
              " 'was',\n",
              " 'just',\n",
              " 'brilliant',\n",
              " 'casting',\n",
              " 'location',\n",
              " 'scenery',\n",
              " 'story',\n",
              " 'direction',\n",
              " \"everyone's\",\n",
              " 'really',\n",
              " 'suited',\n",
              " 'the',\n",
              " 'part',\n",
              " 'they',\n",
              " 'played',\n",
              " 'and',\n",
              " 'you',\n",
              " 'could',\n",
              " 'just',\n",
              " 'imagine',\n",
              " 'being',\n",
              " 'there',\n",
              " 'robert',\n",
              " '<UNK>',\n",
              " 'is',\n",
              " 'an',\n",
              " 'amazing',\n",
              " 'actor',\n",
              " 'and',\n",
              " 'now',\n",
              " 'the',\n",
              " 'same',\n",
              " 'being',\n",
              " 'director',\n",
              " '<UNK>',\n",
              " 'father',\n",
              " 'came',\n",
              " 'from',\n",
              " 'the',\n",
              " 'same',\n",
              " 'scottish',\n",
              " 'island',\n",
              " 'as',\n",
              " 'myself',\n",
              " 'so',\n",
              " 'i',\n",
              " 'loved',\n",
              " 'the',\n",
              " 'fact',\n",
              " 'there',\n",
              " 'was',\n",
              " 'a',\n",
              " 'real',\n",
              " 'connection',\n",
              " 'with',\n",
              " 'this',\n",
              " 'film',\n",
              " 'the',\n",
              " 'witty',\n",
              " 'remarks',\n",
              " 'throughout',\n",
              " 'the',\n",
              " 'film',\n",
              " 'were',\n",
              " 'great',\n",
              " 'it',\n",
              " 'was',\n",
              " 'just',\n",
              " 'brilliant',\n",
              " 'so',\n",
              " 'much',\n",
              " 'that',\n",
              " 'i',\n",
              " 'bought',\n",
              " 'the',\n",
              " 'film',\n",
              " 'as',\n",
              " 'soon',\n",
              " 'as',\n",
              " 'it',\n",
              " 'was',\n",
              " 'released',\n",
              " 'for',\n",
              " '<UNK>',\n",
              " 'and',\n",
              " 'would',\n",
              " 'recommend',\n",
              " 'it',\n",
              " 'to',\n",
              " 'everyone',\n",
              " 'to',\n",
              " 'watch',\n",
              " 'and',\n",
              " 'the',\n",
              " 'fly',\n",
              " 'fishing',\n",
              " 'was',\n",
              " 'amazing',\n",
              " 'really',\n",
              " 'cried',\n",
              " 'at',\n",
              " 'the',\n",
              " 'end',\n",
              " 'it',\n",
              " 'was',\n",
              " 'so',\n",
              " 'sad',\n",
              " 'and',\n",
              " 'you',\n",
              " 'know',\n",
              " 'what',\n",
              " 'they',\n",
              " 'say',\n",
              " 'if',\n",
              " 'you',\n",
              " 'cry',\n",
              " 'at',\n",
              " 'a',\n",
              " 'film',\n",
              " 'it',\n",
              " 'must',\n",
              " 'have',\n",
              " 'been',\n",
              " 'good',\n",
              " 'and',\n",
              " 'this',\n",
              " 'definitely',\n",
              " 'was',\n",
              " 'also',\n",
              " '<UNK>',\n",
              " 'to',\n",
              " 'the',\n",
              " 'two',\n",
              " 'little',\n",
              " \"boy's\",\n",
              " 'that',\n",
              " 'played',\n",
              " 'the',\n",
              " '<UNK>',\n",
              " 'of',\n",
              " 'norman',\n",
              " 'and',\n",
              " 'paul',\n",
              " 'they',\n",
              " 'were',\n",
              " 'just',\n",
              " 'brilliant',\n",
              " 'children',\n",
              " 'are',\n",
              " 'often',\n",
              " 'left',\n",
              " 'out',\n",
              " 'of',\n",
              " 'the',\n",
              " '<UNK>',\n",
              " 'list',\n",
              " 'i',\n",
              " 'think',\n",
              " 'because',\n",
              " 'the',\n",
              " 'stars',\n",
              " 'that',\n",
              " 'play',\n",
              " 'them',\n",
              " 'all',\n",
              " 'grown',\n",
              " 'up',\n",
              " 'are',\n",
              " 'such',\n",
              " 'a',\n",
              " 'big',\n",
              " 'profile',\n",
              " 'for',\n",
              " 'the',\n",
              " 'whole',\n",
              " 'film',\n",
              " 'but',\n",
              " 'these',\n",
              " 'children',\n",
              " 'are',\n",
              " 'amazing',\n",
              " 'and',\n",
              " 'should',\n",
              " 'be',\n",
              " 'praised',\n",
              " 'for',\n",
              " 'what',\n",
              " 'they',\n",
              " 'have',\n",
              " 'done',\n",
              " \"don't\",\n",
              " 'you',\n",
              " 'think',\n",
              " 'the',\n",
              " 'whole',\n",
              " 'story',\n",
              " 'was',\n",
              " 'so',\n",
              " 'lovely',\n",
              " 'because',\n",
              " 'it',\n",
              " 'was',\n",
              " 'true',\n",
              " 'and',\n",
              " 'was',\n",
              " \"someone's\",\n",
              " 'life',\n",
              " 'after',\n",
              " 'all',\n",
              " 'that',\n",
              " 'was',\n",
              " 'shared',\n",
              " 'with',\n",
              " 'us',\n",
              " 'all']"
            ]
          },
          "metadata": {},
          "execution_count": 102
        }
      ]
    },
    {
      "cell_type": "code",
      "source": [
        "train_data = train_data.apply(encoder)\n",
        "test_data = test_data.apply(encoder)\n"
      ],
      "metadata": {
        "id": "FT4Tp8iFo6Ph"
      },
      "execution_count": null,
      "outputs": []
    },
    {
      "cell_type": "code",
      "source": [
        "def encode_sentiments(sentiment):\n",
        "  if sentiment=='positive':\n",
        "    return 1\n",
        "  else:\n",
        "    return 0\n",
        "\n",
        "train_labels= train_labels.apply(encode_sentiments)\n",
        "test_labels = test_labels.apply(encode_sentiments)\n",
        "\n",
        "train_data=keras.preprocessing.sequence.pad_sequences(train_data,value=word_index[\"<PAD>\"],padding='post',maxlen=500)\n",
        "test_data=keras.preprocessing.sequence.pad_sequences(test_data,value=word_index[\"<PAD>\"],padding='post',maxlen=500)"
      ],
      "metadata": {
        "id": "jKTeyyQnqk6o"
      },
      "execution_count": null,
      "outputs": []
    },
    {
      "cell_type": "markdown",
      "source": [
        "model using keras\n"
      ],
      "metadata": {
        "id": "2kiftArksT81"
      }
    },
    {
      "cell_type": "code",
      "metadata": {
        "id": "D1WDSfAIPs31"
      },
      "source": [
        "model=keras.Sequential([keras.layers.Embedding(10000,16,input_length=500),\n",
        "                        keras.layers.GlobalAveragePooling1D(),\n",
        "                        keras.layers.Dense(16,activation='relu'),\n",
        "                        keras.layers.Dense(1,activation='sigmoid')])"
      ],
      "execution_count": null,
      "outputs": []
    },
    {
      "cell_type": "code",
      "source": [
        "model.compile(optimizer='adam',loss='binary_crossentropy',metrics=['accuracy'])"
      ],
      "metadata": {
        "id": "b2WM3ocVtPMi"
      },
      "execution_count": null,
      "outputs": []
    },
    {
      "cell_type": "code",
      "metadata": {
        "id": "YxUCLcRJQmBB",
        "colab": {
          "base_uri": "https://localhost:8080/"
        },
        "outputId": "aa95a9d1-d7c6-4776-9650-ccc10574c35b"
      },
      "source": [
        "\n",
        "history=model.fit(train_data,train_labels,epochs=30,batch_size=512,validation_data=(test_data,test_labels))"
      ],
      "execution_count": null,
      "outputs": [
        {
          "output_type": "stream",
          "name": "stdout",
          "text": [
            "Epoch 1/30\n",
            "49/49 [==============================] - 3s 52ms/step - loss: 0.6914 - accuracy: 0.5560 - val_loss: 0.6887 - val_accuracy: 0.6317\n",
            "Epoch 2/30\n",
            "49/49 [==============================] - 2s 49ms/step - loss: 0.6815 - accuracy: 0.6790 - val_loss: 0.6737 - val_accuracy: 0.7053\n",
            "Epoch 3/30\n",
            "49/49 [==============================] - 2s 50ms/step - loss: 0.6565 - accuracy: 0.7386 - val_loss: 0.6418 - val_accuracy: 0.7623\n",
            "Epoch 4/30\n",
            "49/49 [==============================] - 2s 51ms/step - loss: 0.6124 - accuracy: 0.7823 - val_loss: 0.5938 - val_accuracy: 0.7958\n",
            "Epoch 5/30\n",
            "49/49 [==============================] - 2s 47ms/step - loss: 0.5535 - accuracy: 0.8191 - val_loss: 0.5359 - val_accuracy: 0.8175\n",
            "Epoch 6/30\n",
            "49/49 [==============================] - 2s 46ms/step - loss: 0.4899 - accuracy: 0.8402 - val_loss: 0.4800 - val_accuracy: 0.8385\n",
            "Epoch 7/30\n",
            "49/49 [==============================] - 2s 47ms/step - loss: 0.4312 - accuracy: 0.8632 - val_loss: 0.4328 - val_accuracy: 0.8502\n",
            "Epoch 8/30\n",
            "49/49 [==============================] - 2s 48ms/step - loss: 0.3839 - accuracy: 0.8747 - val_loss: 0.3966 - val_accuracy: 0.8582\n",
            "Epoch 9/30\n",
            "49/49 [==============================] - 2s 48ms/step - loss: 0.3474 - accuracy: 0.8836 - val_loss: 0.3717 - val_accuracy: 0.8632\n",
            "Epoch 10/30\n",
            "49/49 [==============================] - 2s 48ms/step - loss: 0.3194 - accuracy: 0.8910 - val_loss: 0.3521 - val_accuracy: 0.8673\n",
            "Epoch 11/30\n",
            "49/49 [==============================] - 2s 48ms/step - loss: 0.2960 - accuracy: 0.8977 - val_loss: 0.3357 - val_accuracy: 0.8720\n",
            "Epoch 12/30\n",
            "49/49 [==============================] - 2s 49ms/step - loss: 0.2773 - accuracy: 0.9035 - val_loss: 0.3237 - val_accuracy: 0.8747\n",
            "Epoch 13/30\n",
            "49/49 [==============================] - 2s 48ms/step - loss: 0.2615 - accuracy: 0.9099 - val_loss: 0.3151 - val_accuracy: 0.8757\n",
            "Epoch 14/30\n",
            "49/49 [==============================] - 2s 49ms/step - loss: 0.2475 - accuracy: 0.9138 - val_loss: 0.3069 - val_accuracy: 0.8797\n",
            "Epoch 15/30\n",
            "49/49 [==============================] - 2s 49ms/step - loss: 0.2356 - accuracy: 0.9186 - val_loss: 0.3024 - val_accuracy: 0.8803\n",
            "Epoch 16/30\n",
            "49/49 [==============================] - 2s 49ms/step - loss: 0.2251 - accuracy: 0.9218 - val_loss: 0.2968 - val_accuracy: 0.8822\n",
            "Epoch 17/30\n",
            "49/49 [==============================] - 2s 47ms/step - loss: 0.2150 - accuracy: 0.9261 - val_loss: 0.2927 - val_accuracy: 0.8842\n",
            "Epoch 18/30\n",
            "49/49 [==============================] - 2s 46ms/step - loss: 0.2065 - accuracy: 0.9286 - val_loss: 0.2918 - val_accuracy: 0.8842\n",
            "Epoch 19/30\n",
            "49/49 [==============================] - 2s 47ms/step - loss: 0.1983 - accuracy: 0.9320 - val_loss: 0.2877 - val_accuracy: 0.8857\n",
            "Epoch 20/30\n",
            "49/49 [==============================] - 2s 47ms/step - loss: 0.1908 - accuracy: 0.9352 - val_loss: 0.2871 - val_accuracy: 0.8857\n",
            "Epoch 21/30\n",
            "49/49 [==============================] - 2s 48ms/step - loss: 0.1840 - accuracy: 0.9373 - val_loss: 0.2863 - val_accuracy: 0.8867\n",
            "Epoch 22/30\n",
            "49/49 [==============================] - 2s 47ms/step - loss: 0.1780 - accuracy: 0.9398 - val_loss: 0.2858 - val_accuracy: 0.8864\n",
            "Epoch 23/30\n",
            "49/49 [==============================] - 2s 47ms/step - loss: 0.1716 - accuracy: 0.9421 - val_loss: 0.2858 - val_accuracy: 0.8868\n",
            "Epoch 24/30\n",
            "49/49 [==============================] - 2s 48ms/step - loss: 0.1670 - accuracy: 0.9430 - val_loss: 0.2902 - val_accuracy: 0.8856\n",
            "Epoch 25/30\n",
            "49/49 [==============================] - 2s 47ms/step - loss: 0.1608 - accuracy: 0.9463 - val_loss: 0.2874 - val_accuracy: 0.8858\n",
            "Epoch 26/30\n",
            "49/49 [==============================] - 2s 46ms/step - loss: 0.1559 - accuracy: 0.9486 - val_loss: 0.2889 - val_accuracy: 0.8852\n",
            "Epoch 27/30\n",
            "49/49 [==============================] - 2s 46ms/step - loss: 0.1511 - accuracy: 0.9502 - val_loss: 0.2904 - val_accuracy: 0.8845\n",
            "Epoch 28/30\n",
            "49/49 [==============================] - 2s 49ms/step - loss: 0.1468 - accuracy: 0.9512 - val_loss: 0.2915 - val_accuracy: 0.8846\n",
            "Epoch 29/30\n",
            "49/49 [==============================] - 2s 51ms/step - loss: 0.1434 - accuracy: 0.9525 - val_loss: 0.2950 - val_accuracy: 0.8854\n",
            "Epoch 30/30\n",
            "49/49 [==============================] - 2s 48ms/step - loss: 0.1385 - accuracy: 0.9548 - val_loss: 0.2954 - val_accuracy: 0.8854\n"
          ]
        }
      ]
    },
    {
      "cell_type": "code",
      "source": [
        "loss,accuracy = model.evaluate(test_data,test_labels)\n"
      ],
      "metadata": {
        "colab": {
          "base_uri": "https://localhost:8080/"
        },
        "id": "sgxJ4LT_uMWo",
        "outputId": "1b967c7d-81b3-4f0c-d3c2-2dba4dc9a023"
      },
      "execution_count": null,
      "outputs": [
        {
          "output_type": "stream",
          "name": "stdout",
          "text": [
            "782/782 [==============================] - 2s 3ms/step - loss: 0.2954 - accuracy: 0.8854\n"
          ]
        }
      ]
    },
    {
      "cell_type": "markdown",
      "source": [
        "As we can see , our model is giving around 88% accuracy"
      ],
      "metadata": {
        "id": "Qniyhbr2AX53"
      }
    },
    {
      "cell_type": "code",
      "source": [
        "test_reviews.head()"
      ],
      "metadata": {
        "colab": {
          "base_uri": "https://localhost:8080/",
          "height": 206
        },
        "id": "zEZ_zSITuqa2",
        "outputId": "e3090ce0-1e52-4eb7-c90d-cf8ec6211383"
      },
      "execution_count": null,
      "outputs": [
        {
          "output_type": "execute_result",
          "data": {
            "text/plain": [
              "                                             Reviews Sentiment\n",
              "0  <START please give this one a miss br br <UNK>...  negative\n",
              "1  <START this film requires a lot of patience be...  positive\n",
              "2  <START many animation buffs consider <UNK> <UN...  positive\n",
              "3  <START i generally love this type of movie how...  negative\n",
              "4  <START like some other people wrote i'm a die ...  positive"
            ],
            "text/html": [
              "\n",
              "  <div id=\"df-b956c0b6-cfeb-4952-9dfd-08dcb90572ee\">\n",
              "    <div class=\"colab-df-container\">\n",
              "      <div>\n",
              "<style scoped>\n",
              "    .dataframe tbody tr th:only-of-type {\n",
              "        vertical-align: middle;\n",
              "    }\n",
              "\n",
              "    .dataframe tbody tr th {\n",
              "        vertical-align: top;\n",
              "    }\n",
              "\n",
              "    .dataframe thead th {\n",
              "        text-align: right;\n",
              "    }\n",
              "</style>\n",
              "<table border=\"1\" class=\"dataframe\">\n",
              "  <thead>\n",
              "    <tr style=\"text-align: right;\">\n",
              "      <th></th>\n",
              "      <th>Reviews</th>\n",
              "      <th>Sentiment</th>\n",
              "    </tr>\n",
              "  </thead>\n",
              "  <tbody>\n",
              "    <tr>\n",
              "      <th>0</th>\n",
              "      <td>&lt;START please give this one a miss br br &lt;UNK&gt;...</td>\n",
              "      <td>negative</td>\n",
              "    </tr>\n",
              "    <tr>\n",
              "      <th>1</th>\n",
              "      <td>&lt;START this film requires a lot of patience be...</td>\n",
              "      <td>positive</td>\n",
              "    </tr>\n",
              "    <tr>\n",
              "      <th>2</th>\n",
              "      <td>&lt;START many animation buffs consider &lt;UNK&gt; &lt;UN...</td>\n",
              "      <td>positive</td>\n",
              "    </tr>\n",
              "    <tr>\n",
              "      <th>3</th>\n",
              "      <td>&lt;START i generally love this type of movie how...</td>\n",
              "      <td>negative</td>\n",
              "    </tr>\n",
              "    <tr>\n",
              "      <th>4</th>\n",
              "      <td>&lt;START like some other people wrote i'm a die ...</td>\n",
              "      <td>positive</td>\n",
              "    </tr>\n",
              "  </tbody>\n",
              "</table>\n",
              "</div>\n",
              "      <button class=\"colab-df-convert\" onclick=\"convertToInteractive('df-b956c0b6-cfeb-4952-9dfd-08dcb90572ee')\"\n",
              "              title=\"Convert this dataframe to an interactive table.\"\n",
              "              style=\"display:none;\">\n",
              "        \n",
              "  <svg xmlns=\"http://www.w3.org/2000/svg\" height=\"24px\"viewBox=\"0 0 24 24\"\n",
              "       width=\"24px\">\n",
              "    <path d=\"M0 0h24v24H0V0z\" fill=\"none\"/>\n",
              "    <path d=\"M18.56 5.44l.94 2.06.94-2.06 2.06-.94-2.06-.94-.94-2.06-.94 2.06-2.06.94zm-11 1L8.5 8.5l.94-2.06 2.06-.94-2.06-.94L8.5 2.5l-.94 2.06-2.06.94zm10 10l.94 2.06.94-2.06 2.06-.94-2.06-.94-.94-2.06-.94 2.06-2.06.94z\"/><path d=\"M17.41 7.96l-1.37-1.37c-.4-.4-.92-.59-1.43-.59-.52 0-1.04.2-1.43.59L10.3 9.45l-7.72 7.72c-.78.78-.78 2.05 0 2.83L4 21.41c.39.39.9.59 1.41.59.51 0 1.02-.2 1.41-.59l7.78-7.78 2.81-2.81c.8-.78.8-2.07 0-2.86zM5.41 20L4 18.59l7.72-7.72 1.47 1.35L5.41 20z\"/>\n",
              "  </svg>\n",
              "      </button>\n",
              "      \n",
              "  <style>\n",
              "    .colab-df-container {\n",
              "      display:flex;\n",
              "      flex-wrap:wrap;\n",
              "      gap: 12px;\n",
              "    }\n",
              "\n",
              "    .colab-df-convert {\n",
              "      background-color: #E8F0FE;\n",
              "      border: none;\n",
              "      border-radius: 50%;\n",
              "      cursor: pointer;\n",
              "      display: none;\n",
              "      fill: #1967D2;\n",
              "      height: 32px;\n",
              "      padding: 0 0 0 0;\n",
              "      width: 32px;\n",
              "    }\n",
              "\n",
              "    .colab-df-convert:hover {\n",
              "      background-color: #E2EBFA;\n",
              "      box-shadow: 0px 1px 2px rgba(60, 64, 67, 0.3), 0px 1px 3px 1px rgba(60, 64, 67, 0.15);\n",
              "      fill: #174EA6;\n",
              "    }\n",
              "\n",
              "    [theme=dark] .colab-df-convert {\n",
              "      background-color: #3B4455;\n",
              "      fill: #D2E3FC;\n",
              "    }\n",
              "\n",
              "    [theme=dark] .colab-df-convert:hover {\n",
              "      background-color: #434B5C;\n",
              "      box-shadow: 0px 1px 3px 1px rgba(0, 0, 0, 0.15);\n",
              "      filter: drop-shadow(0px 1px 2px rgba(0, 0, 0, 0.3));\n",
              "      fill: #FFFFFF;\n",
              "    }\n",
              "  </style>\n",
              "\n",
              "      <script>\n",
              "        const buttonEl =\n",
              "          document.querySelector('#df-b956c0b6-cfeb-4952-9dfd-08dcb90572ee button.colab-df-convert');\n",
              "        buttonEl.style.display =\n",
              "          google.colab.kernel.accessAllowed ? 'block' : 'none';\n",
              "\n",
              "        async function convertToInteractive(key) {\n",
              "          const element = document.querySelector('#df-b956c0b6-cfeb-4952-9dfd-08dcb90572ee');\n",
              "          const dataTable =\n",
              "            await google.colab.kernel.invokeFunction('convertToInteractive',\n",
              "                                                     [key], {});\n",
              "          if (!dataTable) return;\n",
              "\n",
              "          const docLinkHtml = 'Like what you see? Visit the ' +\n",
              "            '<a target=\"_blank\" href=https://colab.research.google.com/notebooks/data_table.ipynb>data table notebook</a>'\n",
              "            + ' to learn more about interactive tables.';\n",
              "          element.innerHTML = '';\n",
              "          dataTable['output_type'] = 'display_data';\n",
              "          await google.colab.output.renderOutput(dataTable, element);\n",
              "          const docLink = document.createElement('div');\n",
              "          docLink.innerHTML = docLinkHtml;\n",
              "          element.appendChild(docLink);\n",
              "        }\n",
              "      </script>\n",
              "    </div>\n",
              "  </div>\n",
              "  "
            ]
          },
          "metadata": {},
          "execution_count": 109
        }
      ]
    },
    {
      "cell_type": "markdown",
      "source": [],
      "metadata": {
        "id": "n3yKEIZTAVBl"
      }
    },
    {
      "cell_type": "code",
      "source": [
        "index = np.random.randint(1,1000)"
      ],
      "metadata": {
        "id": "jePyED6Uuv8v"
      },
      "execution_count": null,
      "outputs": []
    },
    {
      "cell_type": "code",
      "source": [
        "user_review=test_reviews.loc[index]\n",
        "print(user_review)"
      ],
      "metadata": {
        "colab": {
          "base_uri": "https://localhost:8080/"
        },
        "id": "cogErPbHu2SO",
        "outputId": "1b5bde61-e263-45c8-9fec-0e0882096ac1"
      },
      "execution_count": null,
      "outputs": [
        {
          "output_type": "stream",
          "name": "stdout",
          "text": [
            "Reviews      <START i'm a huge comedy show fan racial humor...\n",
            "Sentiment                                             negative\n",
            "Name: 972, dtype: object\n"
          ]
        }
      ]
    },
    {
      "cell_type": "code",
      "source": [
        "if (model.predict(processed)>0.5).astype(\"int32\"):\n",
        "  print(\"positive sentiment\")\n",
        "else:\n",
        "  print(\"negative sentiment\")"
      ],
      "metadata": {
        "colab": {
          "base_uri": "https://localhost:8080/"
        },
        "id": "NWC-Zx_gvBZc",
        "outputId": "d2160b0b-e35b-46ad-b4b6-1b9227c5db01"
      },
      "execution_count": null,
      "outputs": [
        {
          "output_type": "stream",
          "name": "stdout",
          "text": [
            "1/1 [==============================] - 0s 65ms/step\n",
            "negative sentiment\n"
          ]
        }
      ]
    },
    {
      "cell_type": "markdown",
      "source": [
        "The model has identified it **correctly**"
      ],
      "metadata": {
        "id": "k2s9S3m6AkQ-"
      }
    },
    {
      "cell_type": "markdown",
      "source": [
        "**Let's take user input and see :)**\n"
      ],
      "metadata": {
        "id": "Ki3H2vF9Jv-_"
      }
    },
    {
      "cell_type": "code",
      "source": [
        "print(\"What movie did you see?\")\n",
        "name = input()\n",
        "\n",
        "print(\"How was it? Tell me in lowercase\")\n",
        "rev = list(input().strip().split())\n",
        "processed = encoder(rev)\n",
        "\n",
        "size = 500\n",
        "processed = processed + [0] * max(0, size - len(processed))\n",
        "processed = np.array(processed).reshape(1,500)\n"
      ],
      "metadata": {
        "colab": {
          "base_uri": "https://localhost:8080/"
        },
        "id": "U7F0rj6ULUgx",
        "outputId": "72eb76f9-ebb8-4772-bbb7-cae2c4922fc4"
      },
      "execution_count": null,
      "outputs": [
        {
          "name": "stdout",
          "output_type": "stream",
          "text": [
            "What movie did you see?\n",
            "shyam singhaory\n",
            "How was it? Tell me in lowercase\n",
            "it was entertaining\n"
          ]
        }
      ]
    },
    {
      "cell_type": "code",
      "source": [
        "if (model.predict(processed)>0.5).astype(\"int32\"):\n",
        "  print(\"positive sentiment\")\n",
        "else:\n",
        "  print(\"negative sentiment\")"
      ],
      "metadata": {
        "colab": {
          "base_uri": "https://localhost:8080/"
        },
        "id": "XgxEBEjXJzKQ",
        "outputId": "389b7da1-397d-4e1e-c111-4c43dbfe57ad"
      },
      "execution_count": null,
      "outputs": [
        {
          "output_type": "stream",
          "name": "stdout",
          "text": [
            "1/1 [==============================] - 0s 22ms/step\n",
            "positive sentiment\n"
          ]
        }
      ]
    },
    {
      "cell_type": "code",
      "source": [],
      "metadata": {
        "id": "uH-UnhoNdPtI"
      },
      "execution_count": null,
      "outputs": []
    },
    {
      "cell_type": "markdown",
      "source": [
        "# For Deployment\n"
      ],
      "metadata": {
        "id": "iCUDfK41dQgf"
      }
    },
    {
      "cell_type": "code",
      "source": [
        "import pickle"
      ],
      "metadata": {
        "id": "igxrV_WEdUkA"
      },
      "execution_count": 1,
      "outputs": []
    },
    {
      "cell_type": "code",
      "source": [
        "filename = 'trained_model.sav'\n"
      ],
      "metadata": {
        "id": "euSkoPRcdbIn"
      },
      "execution_count": 3,
      "outputs": []
    }
  ]
}